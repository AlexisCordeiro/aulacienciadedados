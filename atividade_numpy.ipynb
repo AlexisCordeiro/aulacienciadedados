{
  "nbformat": 4,
  "nbformat_minor": 0,
  "metadata": {
    "colab": {
      "provenance": [],
      "mount_file_id": "1lGZBxW3fNlHjYqFqwsg0RE-BBPhz_qD8",
      "authorship_tag": "ABX9TyM5qjK0prZkch0cBE0yr+U8",
      "include_colab_link": true
    },
    "kernelspec": {
      "name": "python3",
      "display_name": "Python 3"
    },
    "language_info": {
      "name": "python"
    }
  },
  "cells": [
    {
      "cell_type": "markdown",
      "metadata": {
        "id": "view-in-github",
        "colab_type": "text"
      },
      "source": [
        "<a href=\"https://colab.research.google.com/github/AlexisCordeiro/aulacienciadedados/blob/main/atividade_numpy.ipynb\" target=\"_parent\"><img src=\"https://colab.research.google.com/assets/colab-badge.svg\" alt=\"Open In Colab\"/></a>"
      ]
    },
    {
      "cell_type": "markdown",
      "source": [
        "#Atividade 1:"
      ],
      "metadata": {
        "id": "DhkjuP8fDF6e"
      }
    },
    {
      "cell_type": "code",
      "execution_count": null,
      "metadata": {
        "id": "BDpAG7jrBKOQ"
      },
      "outputs": [],
      "source": [
        "import numpy as np\n",
        "import matplotlib.pyplot as plt\n",
        "from time import process_time\n",
        "from numpy.random import default_rng"
      ]
    },
    {
      "cell_type": "code",
      "source": [
        "rng = default_rng()\n",
        "dados_x = rng.integers(0, 20, size=30) \n",
        "dados_x = 2 * (dados_x // 2)  \n",
        "\n",
        "dados_y = rng.integers(0, 12, size=30)  \n",
        "dados_y = 2 * (dados_y // 2) + 1 \n",
        "t1 = process_time()\n",
        "\n",
        "plt.scatter(x=dados_x, y=dados_y)\n",
        "plt.show()\n",
        "\n",
        "t2 = process_time()\n",
        "print(t2 - t1)\n"
      ],
      "metadata": {
        "colab": {
          "base_uri": "https://localhost:8080/",
          "height": 282
        },
        "id": "1qjomOAXBeRm",
        "outputId": "b18e2673-267b-4311-9b93-a4a31926af97"
      },
      "execution_count": null,
      "outputs": [
        {
          "output_type": "display_data",
          "data": {
            "text/plain": [
              "<Figure size 432x288 with 1 Axes>"
            ],
            "image/png": "[encoded data removed]"
          },
          "metadata": {
            "needs_background": "light"
          }
        },
        {
          "output_type": "stream",
          "name": "stdout",
          "text": [
            "0.26448028400000023\n"
          ]
        }
      ]
    },
    {
      "cell_type": "markdown",
      "source": [
        "#Atividade 2:"
      ],
      "metadata": {
        "id": "Jvl3mst7DLGd"
      }
    },
    {
      "cell_type": "code",
      "source": [
        "import matplotlib.pyplot as plt\n",
        "import random\n",
        "\n",
        "# Função para gerar números primos\n",
        "def is_prime(n):\n",
        "    if n <= 1:\n",
        "        return False\n",
        "    for i in range(2, int(n**0.5)+1):\n",
        "        if n % i == 0:\n",
        "            return False\n",
        "    return True\n",
        "\n",
        "# Função para gerar a Sequência de Fibonacci\n",
        "def fibonacci(n):\n",
        "    if n <= 0:\n",
        "        return []\n",
        "    if n == 1:\n",
        "        return [0]\n",
        "    seq = [0, 1]\n",
        "    while len(seq) < n:\n",
        "        seq.append(seq[-1] + seq[-2])\n",
        "    return seq\n",
        "\n",
        "# Gerando números aleatórios de acordo com as funções\n",
        "x = []\n",
        "y = []\n",
        "for i in range(100):\n",
        "    p = random.randint(2, 1000)\n",
        "    while not is_prime(p):\n",
        "        p = random.randint(2, 1000)\n",
        "    x.append(p)\n",
        "    \n",
        "    f = random.choice(fibonacci(20))\n",
        "    y.append(f)\n",
        "\n",
        "# Criando o gráfico\n",
        "plt.scatter(x, y, alpha=0.5)\n",
        "plt.xlabel(\"Números primos\")\n",
        "plt.ylabel(\"Sequência de Fibonacci\")\n",
        "plt.title(\"Gráfico com números aleatórios\")\n",
        "plt.show()\n"
      ],
      "metadata": {
        "id": "g5kpS4IbCM1M",
        "colab": {
          "base_uri": "https://localhost:8080/",
          "height": 296
        },
        "outputId": "1d502c77-067c-4673-9175-2ad83b34bb96"
      },
      "execution_count": null,
      "outputs": [
        {
          "output_type": "display_data",
          "data": {
            "text/plain": [
              "<Figure size 432x288 with 1 Axes>"
            ],
            "image/png": "[encoded data removed]"
          },
          "metadata": {
            "needs_background": "light"
          }
        }
      ]
    },
    {
      "cell_type": "markdown",
      "source": [
        "#Atividade 3:\n"
      ],
      "metadata": {
        "id": "DCEOmr28NURj"
      }
    },
    {
      "cell_type": "code",
      "source": [
        "matriz = np.arange(51)\n",
        "print(matriz)"
      ],
      "metadata": {
        "colab": {
          "base_uri": "https://localhost:8080/"
        },
        "id": "BHjqnTMKTbAa",
        "outputId": "4a96b81d-5cf6-4bbf-a11d-a3a0f04328b5"
      },
      "execution_count": null,
      "outputs": [
        {
          "output_type": "stream",
          "name": "stdout",
          "text": [
            "[ 0  1  2  3  4  5  6  7  8  9 10 11 12 13 14 15 16 17 18 19 20 21 22 23\n",
            " 24 25 26 27 28 29 30 31 32 33 34 35 36 37 38 39 40 41 42 43 44 45 46 47\n",
            " 48 49 50]\n"
          ]
        }
      ]
    },
    {
      "cell_type": "markdown",
      "source": [
        "#Atividade 4:"
      ],
      "metadata": {
        "id": "Dzfim6ZDVZdp"
      }
    },
    {
      "cell_type": "code",
      "source": [
        "# Cria uma matriz 1D booleana com 5 elementos aleatórios\n",
        "array = np.random.choice([True, False], size=5)\n",
        "\n",
        "print(array)"
      ],
      "metadata": {
        "colab": {
          "base_uri": "https://localhost:8080/"
        },
        "id": "LHCV3meAVdhQ",
        "outputId": "d1399416-1807-4d9e-99c2-953e5ae112b9"
      },
      "execution_count": null,
      "outputs": [
        {
          "output_type": "stream",
          "name": "stdout",
          "text": [
            "[False  True False  True False]\n"
          ]
        }
      ]
    },
    {
      "cell_type": "markdown",
      "source": [
        "#Atividade 5:"
      ],
      "metadata": {
        "id": "PmF9hLARb8Gv"
      }
    },
    {
      "cell_type": "code",
      "source": [
        "matriz = np.ones((4, 4), dtype=bool)\n",
        "\n",
        "print(matriz)"
      ],
      "metadata": {
        "colab": {
          "base_uri": "https://localhost:8080/"
        },
        "id": "gNcXQzI1b7J3",
        "outputId": "3d38bb33-9ac4-42ae-cc71-5baa662891bd"
      },
      "execution_count": null,
      "outputs": [
        {
          "output_type": "stream",
          "name": "stdout",
          "text": [
            "[[ True  True  True  True]\n",
            " [ True  True  True  True]\n",
            " [ True  True  True  True]\n",
            " [ True  True  True  True]]\n"
          ]
        }
      ]
    },
    {
      "cell_type": "markdown",
      "source": [
        "#Atividade 6:"
      ],
      "metadata": {
        "id": "Yn9lPm3WcOh1"
      }
    },
    {
      "cell_type": "code",
      "source": [
        "numeros = list(range(1, 52))  # cria um array de 1 até 51\n",
        "for i in range(len(numeros)):  # percorre todos os elementos do array\n",
        "    if numeros[i] % 2 != 0:  # verifica se o número é ímpar\n",
        "        numeros[i] = 0  # substitui o número ímpar por 0"
      ],
      "metadata": {
        "id": "DoA9VSjVcN4m"
      },
      "execution_count": null,
      "outputs": []
    },
    {
      "cell_type": "markdown",
      "source": [
        "#Atividade 7:"
      ],
      "metadata": {
        "id": "3zPlQ5-3lLNH"
      }
    },
    {
      "cell_type": "code",
      "source": [
        "import numpy as np\n",
        "\n",
        "# Cria uma matriz 1D com 49 elementos\n",
        "matriz_1d = np.arange(49)\n",
        "\n",
        "# Reshape da matriz 1D em uma matriz 2D com 7 linhas e 7 colunas\n",
        "matriz_2d = matriz_1d.reshape((7, 7))\n",
        "\n",
        "print(matriz_2d)"
      ],
      "metadata": {
        "colab": {
          "base_uri": "https://localhost:8080/"
        },
        "id": "frBeu5walOiH",
        "outputId": "60c3d411-0e24-4c00-dee3-81292836d6c8"
      },
      "execution_count": null,
      "outputs": [
        {
          "output_type": "stream",
          "name": "stdout",
          "text": [
            "[[ 0  1  2  3  4  5  6]\n",
            " [ 7  8  9 10 11 12 13]\n",
            " [14 15 16 17 18 19 20]\n",
            " [21 22 23 24 25 26 27]\n",
            " [28 29 30 31 32 33 34]\n",
            " [35 36 37 38 39 40 41]\n",
            " [42 43 44 45 46 47 48]]\n"
          ]
        }
      ]
    },
    {
      "cell_type": "markdown",
      "source": [
        "#Atividade 8:"
      ],
      "metadata": {
        "id": "51Yoe8pSlvZI"
      }
    },
    {
      "cell_type": "code",
      "source": [
        "while True:\n",
        "    # Criando matriz 2D de números aleatórios entre 0 e 10\n",
        "    arr = np.random.randint(0, 11, size=(3, 3))\n",
        "    # Verificando a soma da matriz\n",
        "    if np.sum(arr) <= 50:\n",
        "        break\n"
      ],
      "metadata": {
        "id": "qPjJXc2NlxGX"
      },
      "execution_count": null,
      "outputs": []
    },
    {
      "cell_type": "markdown",
      "source": [
        "#Atividade 9:"
      ],
      "metadata": {
        "id": "cBQK5e5FmCD3"
      }
    },
    {
      "cell_type": "code",
      "source": [
        "cpf = \"46886772864\" # Substitua pelos números do seu CPF\n",
        "\n",
        "# Crie um array aleatório com formato (3, 3, 4)\n",
        "arr = np.random.randint(0, 10, size=(3, 3, 4))\n",
        "\n",
        "# Substitua os valores aleatórios pelos números do CPF\n",
        "for i in range(11):\n",
        "    arr[np.where(arr == i)] = int(cpf[i])\n",
        "\n",
        "print(arr)"
      ],
      "metadata": {
        "colab": {
          "base_uri": "https://localhost:8080/"
        },
        "id": "HhgOQ786mDUe",
        "outputId": "045c7805-1921-4c8c-91fa-dc391a5606b5"
      },
      "execution_count": null,
      "outputs": [
        {
          "output_type": "stream",
          "name": "stdout",
          "text": [
            "[[[8 2 6 2]\n",
            "  [8 2 2 2]\n",
            "  [2 8 6 2]]\n",
            "\n",
            " [[2 2 2 2]\n",
            "  [2 8 8 2]\n",
            "  [8 2 8 2]]\n",
            "\n",
            " [[2 8 2 2]\n",
            "  [2 2 2 2]\n",
            "  [2 8 2 8]]]\n"
          ]
        }
      ]
    },
    {
      "cell_type": "markdown",
      "source": [
        "#Atividade 10:"
      ],
      "metadata": {
        "id": "_OMzTZKJn81P"
      }
    },
    {
      "cell_type": "code",
      "source": [
        "arr = np.random.rand(40, 30, 50)\n",
        "\n",
        "# Some os valores das diagonais\n",
        "diag_sum = np.trace(arr, axis1=1, axis2=2).sum()\n",
        "\n",
        "print(\"Soma das diagonais:\", diag_sum)"
      ],
      "metadata": {
        "colab": {
          "base_uri": "https://localhost:8080/"
        },
        "id": "KpIaDZDRn-h2",
        "outputId": "37fe93b7-e934-4578-d292-78470be9c70b"
      },
      "execution_count": null,
      "outputs": [
        {
          "output_type": "stream",
          "name": "stdout",
          "text": [
            "Soma das diagonais: 610.3098997476701\n"
          ]
        }
      ]
    }
  ]
}